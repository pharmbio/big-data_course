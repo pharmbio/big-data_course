{
 "cells": [
  {
   "cell_type": "markdown",
   "metadata": {},
   "source": [
    "# Practicing MapReduce\n",
    "\n",
    "The goal of this lab is to give you experience thinking in terms of MapReduce. We will be using small datasets that you can inspect manually to determine the correctness of your results to help you internalize how MapReduce works. In the next lab, you will have the opportunity to use Spark, a MapReduce-based system, to process the very large datasets for which it was actually designed.\n",
    "\n",
    "\n",
    "## Learning the Basics\n",
    "\n",
    "We will first look at the `map()` and `reduce()` functions individually and then we will use them together to build more complex exercises.\n",
    "\n",
    "\n",
    "### The `map()` Function\n",
    "\n",
    "First, let's think in terms of the `map()` function.  The `map()` function iterates through all the items in the given iterable and executes the function we passed as an argument on each of them. If you're asking yourself \"how is this different from a regular loop?\" the answer is it's obvious how to parallelize a map function without any further input from the programmer. \n",
    "\n",
    "Consider for example a list of fruits like the one below:"
   ]
  },
  {
   "cell_type": "code",
   "execution_count": null,
   "metadata": {},
   "outputs": [],
   "source": [
    "fruits = [\"Apple\", \"Strawberry\", \"Banana\", \"Pear\", \"Apricot\", \"Watermelon\", \"Orange\", \"Avocado\", \"Pineapple\"]"
   ]
  },
  {
   "cell_type": "markdown",
   "metadata": {},
   "source": [
    "How can you take the list of fruits and get another list of which ones begin with the letter \"A\"?"
   ]
  },
  {
   "cell_type": "code",
   "execution_count": null,
   "metadata": {},
   "outputs": [],
   "source": [
    "# Option 1: Defining your own begins_with_A function\n",
    "def begins_with_A(word):\n",
    "    return word[0] == \"A\"\n",
    "\n",
    "bool_fruits_A = list(map(begins_with_A, fruits))\n",
    "print(bool_fruits_A)"
   ]
  },
  {
   "cell_type": "code",
   "execution_count": null,
   "metadata": {},
   "outputs": [],
   "source": [
    "# Option 2: A nicer and more compact way\n",
    "bool_fruits_A = list(map(lambda s: s[0] == \"A\", fruits))\n",
    "print(bool_fruits_A)"
   ]
  },
  {
   "cell_type": "markdown",
   "metadata": {},
   "source": [
    "### The `reduce()` Function\n",
    "\n",
    "Now that you know how to use `map()`, let's give `reduce()` a try.  First, remember that `reduce()` returns a single value based on the function and iterable we've passed (instead of an iterator). Second, `reduce()` takes a function that is commutative and associative, that is, the order of the elements does not affect the result and the grouping of the elements also does not affect the result. This means you need to map the data into the same type of result you're expecting after applying `reduce()`.\n",
    "\n",
    "Also note that in Python 3 `reduce()` isn't a built-in function anymore, but it can be found in the functools module.\n"
   ]
  },
  {
   "cell_type": "code",
   "execution_count": null,
   "metadata": {},
   "outputs": [],
   "source": [
    "from functools import reduce\n",
    "\n",
    "some_list = [2, 4, 7, 3, 1, 10, 21, 42]\n",
    "print(reduce(lambda x, y: x + y, some_list))"
   ]
  },
  {
   "cell_type": "markdown",
   "metadata": {},
   "source": [
    "Sum is commutative and associative, so any splitting and reordering of <code>some_list</code> will yield the same result:"
   ]
  },
  {
   "cell_type": "code",
   "execution_count": null,
   "metadata": {},
   "outputs": [],
   "source": [
    "half_some_list_1 = [2, 4, 7, 3]\n",
    "half_some_list_2 = reversed([1, 10, 21, 42])\n",
    "\n",
    "reduced_1 = reduce(lambda x, y: x + y, half_some_list_1)\n",
    "reduced_2 = reduce(lambda x, y: x + y, half_some_list_2)\n",
    "\n",
    "print(reduce(lambda x, y: x + y, [reduced_1,reduced_2]))"
   ]
  },
  {
   "cell_type": "markdown",
   "metadata": {},
   "source": [
    "This is important again because, when working with very large datasets, your data will be split and you want to get correct results when doing things in parallel.\n",
    "\n",
    "**Mini exercise**: use `map()` and `reduce()` to count how many fruits begin with the letter \"A\". Use the cell below to try it out!\n",
    "\n",
    "From now on, you'll find a hidden answers for the exercises. Resist the urge of looking at the answers right away and **try to solve them on your own first**!\n",
    "\n",
    "<details>\n",
    "<summary>\n",
    "<font size=\"3\" color=\"green\">\n",
    "<b>Click here to see one possible solution.</b>\n",
    "</font>\n",
    "</summary>\n",
    "  <p>\n",
    "    <code>int_fruits_A = map(lambda s: int(s),bool_fruits_A)</code><br>\n",
    "    <code>print(reduce(lambda x, y: x + y, int_fruits_A))</code>\n",
    "   </p>\n",
    "</details>"
   ]
  },
  {
   "cell_type": "code",
   "execution_count": null,
   "metadata": {},
   "outputs": [],
   "source": [
    "# Use this cell to type your answer or copy and paste the answer hidden above\n",
    "\n"
   ]
  },
  {
   "cell_type": "markdown",
   "metadata": {},
   "source": [
    "## Warm Up Exercise: A Social Network\n",
    "\n",
    "Now that you know how to use map and reduce, let's practice doing more complex things.\n",
    "\n",
    "Consider a simple social network dataset consisting of a set of key-value pairs (person, friend) representing a friend relationship between two people. \n",
    "\n",
    "Each input record is a pair person_A, person_B where person_A is a string representing the name of a person and person_B is a string representing the name of one of person_A's friends. Note that it may or may not be the case that the relationship is symmetric, that is, person_B might not consider person_A a friend. \n",
    "\n",
    "**Task**: Describe a MapReduce algorithm to count the number of friends for each person. The output should be a pair (person, friend_count) where person is a string and friend_count is an integer indicating the number of friends associated with person.\n",
    "\n",
    "\n",
    "### Map the Input \n",
    "\n",
    "Let's begin by reading the input file \"friends.dat\"."
   ]
  },
  {
   "cell_type": "code",
   "execution_count": null,
   "metadata": {},
   "outputs": [],
   "source": [
    "# Loading the data\n",
    "network_data_file = open(\"friends.dat\")\n",
    "network_data = network_data_file.read().split('\\n')\n",
    "network_data_file.close()"
   ]
  },
  {
   "cell_type": "markdown",
   "metadata": {},
   "source": [
    "You can open the file or print 'network_data' to see how the data looks like."
   ]
  },
  {
   "cell_type": "code",
   "execution_count": null,
   "metadata": {},
   "outputs": [],
   "source": [
    "print(network_data)"
   ]
  },
  {
   "cell_type": "markdown",
   "metadata": {},
   "source": [
    "Now that the data has been loaded, think about the format you'll need to map your data into. In order to reduce your data into a list of pairs of the form <code>(person, num_friends)</code>, you'll have to map the original input data into something similar."
   ]
  },
  {
   "cell_type": "code",
   "execution_count": null,
   "metadata": {},
   "outputs": [],
   "source": [
    "person_1_pairs = list(map(lambda p: [((p.split(','))[0],1)], network_data))\n",
    "\n",
    "print(person_1_pairs)"
   ]
  },
  {
   "cell_type": "markdown",
   "metadata": {},
   "source": [
    "Now that we mapped our data, it's almost time to use reduce(). The reduceByKey() function is only available in pyspark, but we can still write our own reduce_by_key function that is commutative and associative and use it together with reduce()."
   ]
  },
  {
   "cell_type": "code",
   "execution_count": null,
   "metadata": {},
   "outputs": [],
   "source": [
    "## We consider 2 lists because the function should be commutative and associative. \n",
    "## Keeping the lists sorted reduces the time complexity of the function, \n",
    "## which is not important for tiny problems like this one, but it's very important for large datasets\n",
    "## Precondition/assumption: list1 and list2 are sorted by name/key. \n",
    "## Example input list1 = [(Anna,1),(Maria,3)] list2 = [(Anna,2),(Kate,4),(Zara,1)]\n",
    "## Expected output = [(Anna,3),(Kate,4),(Maria,3),(Zara,1)]\n",
    "\n",
    "def reduce_by_key(list1,list2):\n",
    "    final_list = []\n",
    "    i, j = 0, 0\n",
    "  \n",
    "    while i < len(list1) and j < len(list2): \n",
    "        if list1[i][0] == list2[j][0]: \n",
    "            final_list.append((list1[i][0],list1[i][1] + list2[j][1]))\n",
    "            i += 1\n",
    "            j += 1\n",
    "            \n",
    "        elif list1[i][0] < list2[j][0]: \n",
    "            final_list.append(list1[i]) \n",
    "            i += 1\n",
    "  \n",
    "        else: \n",
    "            final_list.append(list2[j]) \n",
    "            j += 1\n",
    "    \n",
    "    return list(final_list + list1[i:] + list2[j:])"
   ]
  },
  {
   "cell_type": "markdown",
   "metadata": {},
   "source": [
    "Now we apply reduce() to get our final count:"
   ]
  },
  {
   "cell_type": "code",
   "execution_count": null,
   "metadata": {},
   "outputs": [],
   "source": [
    "person_friends_pairs = list(reduce(reduce_by_key, person_1_pairs))\n",
    "\n",
    "print(person_friends_pairs)"
   ]
  },
  {
   "cell_type": "markdown",
   "metadata": {},
   "source": [
    "**Task**: use MapReduce again to partially validate your result by making sure that the total number of friends matches the number of lines in the input file, that is, add up all the friends.\n",
    "\n",
    "<details>\n",
    "<summary>\n",
    "<font size=\"3\" color=\"green\">\n",
    "<b>Click here to see one possible solution.</b>\n",
    "</font>\n",
    "</summary>\n",
    "<code>print(reduce(lambda p , q: ('total',p[1]+q[1]), person_friends_pairs))</code>\n",
    "</details>\n",
    "\n",
    "<details>\n",
    "<summary>\n",
    "<font size=\"3\" color=\"green\">\n",
    "<b>Click here to see another possible solution.</b>\n",
    "</font>\n",
    "</summary>\n",
    "    <p>\n",
    "        <code>friend_count_map = map(lambda p: p[1], person_friends_pairs)</code><br>\n",
    "        <code>print(reduce(lambda p,q: p+q, friend_count_map))</code>\n",
    "    </p>\n",
    "</details>"
   ]
  },
  {
   "cell_type": "code",
   "execution_count": null,
   "metadata": {},
   "outputs": [],
   "source": [
    "# Use this cell to test your MapReduce answer and compare it with the input\n",
    "\n",
    "# Total number of friends in the file\n",
    "print(len(network_data))"
   ]
  },
  {
   "cell_type": "markdown",
   "metadata": {},
   "source": [
    "## Exercise: Counting Fruits\n",
    "\n",
    "Using the same fruit list from the begining of the lab, count how many fruits begin with each letter.\n",
    "\n",
    "<details>\n",
    "<summary>\n",
    "<font size=\"3\" color=\"green\">\n",
    "<b>Click here to see one possible way to use map().</b>\n",
    "</font>\n",
    "</summary>\n",
    "<code>fruits_letters = list(map(lambda s: [(s[0],1)], fruits))</code>\n",
    "</details>\n",
    "\n",
    "<details>\n",
    "<summary>\n",
    "<font size=\"3\" color=\"green\">\n",
    "<b>Click here to see one possible way to use reduce().</b>\n",
    "</font>\n",
    "</summary>\n",
    "<code>fruits_letters_total = list(reduce(reduce_by_key, fruits_letters))</code>\n",
    "</details>"
   ]
  },
  {
   "cell_type": "code",
   "execution_count": null,
   "metadata": {},
   "outputs": [],
   "source": [
    "#Use this cell for your code\n",
    "\n"
   ]
  },
  {
   "cell_type": "markdown",
   "metadata": {},
   "source": [
    "Now consider that you have even more fruit names available int spring_fruits.dat. Count the fruits starting by each letter including both the previous list and spring fruits. Ideally, you should not need to modify what you already did on the previous cell!\n",
    "\n",
    "<details>\n",
    "<summary>\n",
    "<font size=\"3\" color=\"green\">\n",
    "<b>Click here to see one possible solution.</b>\n",
    "</font>\n",
    "</summary>\n",
    "<code>spring_fruits_letters = list(map(lambda s: [(s[0],1)], spring_fruits_data))\n",
    "spring_fruits_letters_total = list(reduce(reduce_by_key, spring_fruits_letters,fruits_letters_total))</code>\n",
    "</details>"
   ]
  },
  {
   "cell_type": "code",
   "execution_count": null,
   "metadata": {},
   "outputs": [],
   "source": [
    "# Loading the data\n",
    "spring_fruits_file = open(\"spring_fruits.dat\")\n",
    "spring_fruits_data = spring_fruits_file.read().split('\\n')\n",
    "spring_fruits_file.close()"
   ]
  },
  {
   "cell_type": "code",
   "execution_count": null,
   "metadata": {},
   "outputs": [],
   "source": [
    "# Add your code here\n"
   ]
  },
  {
   "cell_type": "markdown",
   "metadata": {},
   "source": [
    "## Final Exercise: Inverted Index\n",
    "\n",
    "In this exercise, you'll be creating an [inverted index](https://en.wikipedia.org/wiki/Inverted_index) using MapReduce. An _inverted index_ is a data structure that is common to most information retrieval systems, and it is used for storing a mapping from the content (i.e words, numbers, etc) to its locations (i.e. tables, documents, etc). \n",
    "\n",
    "There exist two main variants of inverted indexes, namely a record-level inverted index and a word-level inverted index. A _record-level inverted index_ stores a list of references to documents for each word. A _word-level inverted index_ additionally stores the positions of each word within a document. In this exercise, we'll focus on the first and simpler version of the two. \n",
    "\n",
    "Let's begin by loading the data and seeing what it looks like."
   ]
  },
  {
   "cell_type": "code",
   "execution_count": null,
   "metadata": {},
   "outputs": [],
   "source": [
    "# Loading data\n",
    "import json\n",
    "\n",
    "books_file = open(\"books.json\")\n",
    "books = books_file.read().split(\"\\n\")\n",
    "books_file.close()\n",
    "\n",
    "book_records = list(map(lambda p: json.loads(p), books))\n",
    "\n",
    "print(\"The first file name is:\", book_records[0][0], \"\\n\")\n",
    "print(\"The content of the first file is:\", book_records[0][1])"
   ]
  },
  {
   "cell_type": "markdown",
   "metadata": {},
   "source": [
    "Now it's time to map the input data into a data format that can be used with reduce later on.\n",
    "\n",
    "<details>\n",
    "<summary>\n",
    "<font size=\"3\" color=\"green\">\n",
    "<b>Click here to see one possible solution.</b>\n",
    "</font>\n",
    "</summary>\n",
    "<code>mapped_books = list(map(lambda b: list(map(lambda w: (w,[b[0]]),sorted(dict.fromkeys(b[1].split())))),book_records))</code>\n",
    "</details>"
   ]
  },
  {
   "cell_type": "code",
   "execution_count": null,
   "metadata": {},
   "outputs": [],
   "source": [
    "# Your mapping (This is the difficult part of this exercise!)\n",
    "\n"
   ]
  },
  {
   "cell_type": "markdown",
   "metadata": {},
   "source": [
    "Now that you have mapped your data, it's time to use reduce()\n",
    "\n",
    "<details>\n",
    "<summary>\n",
    "<font size=\"3\" color=\"green\">\n",
    "<b>Click here to see one possible solution.</b>\n",
    "</font>\n",
    "</summary>\n",
    "<code>inverted_index = list(reduce(reduce_by_key, mapped_books))</code>\n",
    "</details>"
   ]
  },
  {
   "cell_type": "code",
   "execution_count": null,
   "metadata": {},
   "outputs": [],
   "source": [
    "# Your reduce() \n",
    "\n"
   ]
  }
 ],
 "metadata": {
  "kernelspec": {
   "display_name": "Python 3",
   "language": "python",
   "name": "python3"
  },
  "language_info": {
   "codemirror_mode": {
    "name": "ipython",
    "version": 3
   },
   "file_extension": ".py",
   "mimetype": "text/x-python",
   "name": "python",
   "nbconvert_exporter": "python",
   "pygments_lexer": "ipython3",
   "version": "3.8.5"
  }
 },
 "nbformat": 4,
 "nbformat_minor": 4
}
