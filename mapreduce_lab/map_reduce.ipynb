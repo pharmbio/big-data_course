{
 "cells": [
  {
   "cell_type": "markdown",
   "metadata": {},
   "source": [
    "# MapReduce\n",
    "\n",
    "The goal of this lab is to give you experience thinking in terms of MapReduce. We will be using small datasets that you can inspect manually to determine the correctness of your results to help you internalize how MapReduce works. In the next lab, you will have the opportunity to use Spark, a MapReduce-based system, to process the very large datasets for which it was actually designed.\n",
    "\n",
    "\n",
    "## Learning the Basics\n",
    "\n",
    "We will first look at the map() and reduce() functions individually and then we will use them together to build more complex exercises.\n",
    "\n",
    "\n",
    "### The map() Function\n",
    "\n",
    "First, let's think in terms of the map() function.  The map() function iterates through all the items in the given iterable and executes the function we passed as an argument on each of them. If you're asking yourself \"how is this different from a regular loop?\" the answer is it's obvious how to parallelize a map function without any further input from the programmer. \n",
    "\n",
    "Consider for example a list of fruits like the one below:"
   ]
  },
  {
   "cell_type": "code",
   "execution_count": 1,
   "metadata": {},
   "outputs": [],
   "source": [
    "fruits = [\"Apple\", \"Strawberry\", \"Banana\", \"Pear\", \"Apricot\", \"Watermelon\", \"Orange\", \"Avocado\", \"Pineapple\"]"
   ]
  },
  {
   "cell_type": "markdown",
   "metadata": {},
   "source": [
    "How can you take the list of fruits and get another list of which ones begin with the letter \"A\"?"
   ]
  },
  {
   "cell_type": "code",
   "execution_count": 2,
   "metadata": {},
   "outputs": [
    {
     "name": "stdout",
     "output_type": "stream",
     "text": [
      "[True, False, False, False, True, False, False, True, False]\n"
     ]
    }
   ],
   "source": [
    "# Option 1: Defining your own begins_with_A function\n",
    "def begins_with_A(word):\n",
    "    return word[0] == \"A\"\n",
    "\n",
    "bool_fruits_A = list(map(begins_with_A, fruits))\n",
    "print(bool_fruits_A)"
   ]
  },
  {
   "cell_type": "code",
   "execution_count": 3,
   "metadata": {},
   "outputs": [
    {
     "name": "stdout",
     "output_type": "stream",
     "text": [
      "[True, False, False, False, True, False, False, True, False]\n"
     ]
    }
   ],
   "source": [
    "# Option 2: A nicer and more compact way\n",
    "bool_fruits_A = list(map(lambda s: s[0] == \"A\", fruits))\n",
    "print(bool_fruits_A)"
   ]
  },
  {
   "cell_type": "markdown",
   "metadata": {},
   "source": [
    "### The reduce() Function\n",
    "\n",
    "Now that you know how to use map(), let's give reduce() a try.  First, remember that reduce() returns a single value based on the function and iterable we've passed (instead of an iterator). Second, reduce() takes a function that is commutative and associative, that is, the order of the elements does not affect the result and the grouping of the elements also does not affect the result. This means you need to map the data into the same type of result you're expecting after applyting reduce().\n",
    "\n",
    "Also note that in Python 3 reduce() isn't a built-in function anymore, but it can be found in the functools module.\n"
   ]
  },
  {
   "cell_type": "code",
   "execution_count": 4,
   "metadata": {},
   "outputs": [
    {
     "name": "stdout",
     "output_type": "stream",
     "text": [
      "90\n"
     ]
    }
   ],
   "source": [
    "from functools import reduce\n",
    "\n",
    "some_list = [2, 4, 7, 3, 1, 10, 21, 42]\n",
    "print(reduce(lambda x, y: x + y, some_list))"
   ]
  },
  {
   "cell_type": "markdown",
   "metadata": {},
   "source": [
    "Sum is commutative and associative, so any splitting and reordering of <code>some_list</code> will yild the same result:"
   ]
  },
  {
   "cell_type": "code",
   "execution_count": 26,
   "metadata": {},
   "outputs": [
    {
     "name": "stdout",
     "output_type": "stream",
     "text": [
      "90\n"
     ]
    }
   ],
   "source": [
    "half_some_list_1 = [2, 4, 7, 3]\n",
    "half_some_list_2 = reversed([1, 10, 21, 42])\n",
    "\n",
    "reduced_1 = reduce(lambda x, y: x + y, half_some_list_1)\n",
    "reduced_2 = reduce(lambda x, y: x + y, half_some_list_2)\n",
    "\n",
    "print(reduce(lambda x, y: x + y, [reduced_1,reduced_2]))"
   ]
  },
  {
   "cell_type": "markdown",
   "metadata": {},
   "source": [
    "This is important again because, when working with very large datasets, your data will be split and you want to get correct results when doing things in parallel.\n",
    "\n",
    "**Mini exercise**: use map() and reduce() to count how many fruits begin with the letter \"A\". Use the cell below to try it out!\n",
    "\n",
    "\n",
    "<details>\n",
    "<summary>\n",
    "<font size=\"3\" color=\"green\">\n",
    "<b>Click here to see one possible solution.</b>\n",
    "</font>\n",
    "</summary>\n",
    "<code>int_fruits_A = map(lambda s: int(s),bool_fruits_A)\n",
    "print(reduce(lambda x, y: x + y, int_fruits_A))\n",
    "</code>\n",
    "</details>"
   ]
  },
  {
   "cell_type": "code",
   "execution_count": 27,
   "metadata": {},
   "outputs": [
    {
     "name": "stdout",
     "output_type": "stream",
     "text": [
      "3\n"
     ]
    }
   ],
   "source": [
    "# Use this cell to type your answer or copy and paste the answer hidden above\n",
    "int_fruits_A = map(lambda s: int(s),bool_fruits_A)\n",
    "print(reduce(lambda x, y: x + y, int_fruits_A))"
   ]
  },
  {
   "cell_type": "markdown",
   "metadata": {},
   "source": [
    "## Warm Up Exercise: A Social Network\n",
    "\n",
    "Now that you know how to use map and reduce, let's practice doing more complex things.\n",
    "\n",
    "Consider a simple social network dataset consisting of a set of key-value pairs (person, friend) representing a friend relationship between two people. \n",
    "\n",
    "Each input record is a pair person_A, person_B where person_A is a string representing the name of a person and person_B is a string representing the name of one of person_A's friends. Note that it may or may not be the case that the relationship is symmetric, that is, person_B might not consider person_A a friend. \n",
    "\n",
    "**Task**: Describe a MapReduce algorithm to count the number of friends for each person. The output should be a pair (person, friend_count) where person is a string and friend_count is an integer indicating the number of friends associated with person.\n",
    "\n",
    "\n",
    "### Map the Input \n",
    "\n",
    "Let's begin by reading the input file \"friends.dat\"."
   ]
  },
  {
   "cell_type": "code",
   "execution_count": 6,
   "metadata": {},
   "outputs": [],
   "source": [
    "#import ast\n",
    "\n",
    "# Loading the data\n",
    "network_data_file = open(\"friends.dat\")\n",
    "network_data = network_data_file.read().split('\\n')\n",
    "network_data_file.close()"
   ]
  },
  {
   "cell_type": "markdown",
   "metadata": {},
   "source": [
    "You can open the file or print 'network_data' to see how the data looks like."
   ]
  },
  {
   "cell_type": "code",
   "execution_count": 9,
   "metadata": {},
   "outputs": [
    {
     "name": "stdout",
     "output_type": "stream",
     "text": [
      "['Myriel, Geborand', 'Myriel, Champtercier', 'Myriel, Count', 'Myriel, OldMan', 'Myriel, Valjean', 'Napoleon, Myriel', 'MlleBaptistine, Myriel', 'MlleBaptistine, Valjean', 'MlleBaptistine, MmeMagloire', 'MmeMagloire, Myriel', 'MmeMagloire, Maria', 'Champtercier, Myriel', 'Valjean, Myriel', 'Valjean, MmeMagloire', 'Valjean, Labarre', 'Valjean, Marguerite', 'Valjean, MmeDeR', 'Valjean, Isabeau', 'Valjean, Fantine', 'Valjean, Cosette', 'Valjean, Simplice', 'Valjean, Woman1', 'Valjean, Judge', 'Valjean, Woman2', 'Valjean, Gillenormand', 'Valjean, MlleGillenormand', 'Valjean, Babet', 'Valjean, Montparnasse', 'Maria, Carlos', 'Maria, Ana', 'Carlos, Ana', 'Carlos, Maria', 'Ana, Maria', 'Enola, Alba', 'Enola, Ebba', 'Enola, Maria', 'Enola, Juana', 'Enola, Sherlock', 'Enola, John', 'Monica, Rachel']\n"
     ]
    }
   ],
   "source": [
    "print(network_data)"
   ]
  },
  {
   "cell_type": "markdown",
   "metadata": {},
   "source": [
    "Now that the data has been loaded, think about the format you'll need to map your data into. In order to reduce your data into a list of pairs of the form <code>(person, num_friends)</code>, you'll have to map the original input data into something similar."
   ]
  },
  {
   "cell_type": "code",
   "execution_count": 10,
   "metadata": {},
   "outputs": [
    {
     "name": "stdout",
     "output_type": "stream",
     "text": [
      "[[('Myriel', 1)], [('Myriel', 1)], [('Myriel', 1)], [('Myriel', 1)], [('Myriel', 1)], [('Napoleon', 1)], [('MlleBaptistine', 1)], [('MlleBaptistine', 1)], [('MlleBaptistine', 1)], [('MmeMagloire', 1)], [('MmeMagloire', 1)], [('Champtercier', 1)], [('Valjean', 1)], [('Valjean', 1)], [('Valjean', 1)], [('Valjean', 1)], [('Valjean', 1)], [('Valjean', 1)], [('Valjean', 1)], [('Valjean', 1)], [('Valjean', 1)], [('Valjean', 1)], [('Valjean', 1)], [('Valjean', 1)], [('Valjean', 1)], [('Valjean', 1)], [('Valjean', 1)], [('Valjean', 1)], [('Maria', 1)], [('Maria', 1)], [('Carlos', 1)], [('Carlos', 1)], [('Ana', 1)], [('Enola', 1)], [('Enola', 1)], [('Enola', 1)], [('Enola', 1)], [('Enola', 1)], [('Enola', 1)], [('Monica', 1)]]\n"
     ]
    }
   ],
   "source": [
    "person_1_pairs = list(map(lambda p: [((p.split(','))[0],1)], network_data))\n",
    "\n",
    "print(person_1_pairs)"
   ]
  },
  {
   "cell_type": "markdown",
   "metadata": {},
   "source": [
    "Now that we mapped our data, it's almost time to use reduce(). The reduceByKey() function is only available in pyspark, but we can still write our own reduce_by_key function that is commutative and associative and use it together with reduce()."
   ]
  },
  {
   "cell_type": "code",
   "execution_count": 7,
   "metadata": {},
   "outputs": [],
   "source": [
    "## We consider 2 lists because the function should be conmmutative and assosiative. \n",
    "## Keeping the lists sorted reduces the time complexity of the function, \n",
    "## which is not important for tiny problems like this one, but it's very important for large datasets\n",
    "def reduce_by_key(list1,list2):\n",
    "    final_list = []\n",
    "    i, j = 0, 0\n",
    "  \n",
    "    while i < len(list1) and j < len(list2): \n",
    "        if list1[i][0] == list2[j][0]: \n",
    "            final_list.append((list1[i][0],list1[i][1] + list2[j][1]))\n",
    "            i += 1\n",
    "            j += 1\n",
    "            \n",
    "        elif list1[i][0] < list2[j][0]: \n",
    "            final_list.append(list1[i]) \n",
    "            i += 1\n",
    "  \n",
    "        else: \n",
    "            final_list.append(list2[j]) \n",
    "            j += 1\n",
    "    \n",
    "    return list(final_list + list1[i:] + list2[j:])"
   ]
  },
  {
   "cell_type": "markdown",
   "metadata": {},
   "source": [
    "Now we apply reduce() to get our final count:"
   ]
  },
  {
   "cell_type": "code",
   "execution_count": 8,
   "metadata": {},
   "outputs": [
    {
     "name": "stdout",
     "output_type": "stream",
     "text": [
      "[('Ana', 1), ('Carlos', 2), ('Champtercier', 1), ('Enola', 6), ('Maria', 2), ('MlleBaptistine', 3), ('MmeMagloire', 2), ('Monica', 1), ('Myriel', 5), ('Napoleon', 1), ('Valjean', 16)]\n"
     ]
    }
   ],
   "source": [
    "person_friends_pairs = list(reduce(reduce_by_key, person_1_pairs))\n",
    "\n",
    "print(person_friends_pairs)"
   ]
  },
  {
   "cell_type": "markdown",
   "metadata": {},
   "source": [
    "Can you think of ways of counting the original input data and the number of friends in order to partially validate the output?\n",
    "\n",
    "<details>\n",
    "<summary>\n",
    "<font size=\"3\" color=\"green\">\n",
    "<b>Click here to see one possible solution.</b>\n",
    "</font>\n",
    "</summary>\n",
    "<code>print(reduce(lambda p , q: ('total',p[1]+q[1]), person_friends_pairs))</code>\n",
    "</details>\n",
    "\n",
    "<details>\n",
    "<summary>\n",
    "<font size=\"3\" color=\"green\">\n",
    "<b>Click here to see another possible solution.</b>\n",
    "</font>\n",
    "</summary>\n",
    "<code>friend_count_map = map(lambda p: p[1], person_friends_pairs)\n",
    "print(reduce(lambda p,q: p+q, friend_count_map))\n",
    "</code>\n",
    "</details>"
   ]
  },
  {
   "cell_type": "code",
   "execution_count": 44,
   "metadata": {},
   "outputs": [
    {
     "name": "stdout",
     "output_type": "stream",
     "text": [
      "40\n"
     ]
    }
   ],
   "source": [
    "# Use this cell to test your MapReduce answer and compare it with the input\n",
    "\n",
    "print(len(network_data))"
   ]
  },
  {
   "cell_type": "markdown",
   "metadata": {},
   "source": [
    "## Exercise\n",
    "\n",
    "Using the same fruit list from the begining of the lab, count how many fruits begin with each letter."
   ]
  },
  {
   "cell_type": "code",
   "execution_count": null,
   "metadata": {},
   "outputs": [],
   "source": [
    "#Use this cell for your code\n"
   ]
  },
  {
   "cell_type": "markdown",
   "metadata": {},
   "source": [
    "## Real Exercise\n",
    "\n",
    "A more challenging problem about books!"
   ]
  },
  {
   "cell_type": "code",
   "execution_count": null,
   "metadata": {},
   "outputs": [],
   "source": []
  }
 ],
 "metadata": {
  "kernelspec": {
   "display_name": "Python 3",
   "language": "python",
   "name": "python3"
  },
  "language_info": {
   "codemirror_mode": {
    "name": "ipython",
    "version": 3
   },
   "file_extension": ".py",
   "mimetype": "text/x-python",
   "name": "python",
   "nbconvert_exporter": "python",
   "pygments_lexer": "ipython3",
   "version": "3.8.5"
  }
 },
 "nbformat": 4,
 "nbformat_minor": 4
}
